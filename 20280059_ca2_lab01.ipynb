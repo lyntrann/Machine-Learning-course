{
  "cells": [
    {
      "attachments": {},
      "cell_type": "markdown",
      "metadata": {
        "id": "ae78e63c"
      },
      "source": [
        "#Exercise\n",
        "This is a dataset related to how much money a person can get from a mortgage on his or her home. This dataset includes the following features:\n",
        "* Gender: Gender of the borrower (including two values 'F' and 'M')\n",
        "* Age: Age of the customer applying for a loan (including positive integer values)\n",
        "* Income (USD): Customer's income in USD (value is a positive number)\n",
        "* Income Stability: The level of customer's income stability (including three values of Low and High)\n",
        "* Property Age: Life expectancy of the house in days (including positive integer values)\n",
        "* Property Location: Location of the house (including 'Rural', 'Urban', and 'Semi-Urban')\n",
        "* Property Price: The value of the house in USD (including positive real values)\n",
        "* Loan Sanction Amount (USD): Amount that customers can borrow in USD (target value)\n",
        "\n",
        "Based on practice sample #1, proceed:\n",
        "1. Read data\n",
        "2. Visualize some information of data\n",
        "3. Normalize Data to train linear regression model\n",
        "4. Train linear regression model and show the model's intercepts, coeficients\n",
        "5. Learn on sklearn how to use Ridge, Lasso, and ElasticNet compare the error of all 3 algorithms with Linear Regression (https://scikit-learn.org/stable/index.html)\n",
        "6. Let's try Polynomial of order 2 to compare the previous results. What will the result be if we choose the n order too high?"
      ]
    },
    {
      "cell_type": "code",
      "execution_count": 23,
      "metadata": {
        "colab": {
          "base_uri": "https://localhost:8080/"
        },
        "id": "mYV5QYEaZD5N",
        "outputId": "c762297a-29cd-470d-b9d7-4f0bb3fe2f47"
      },
      "outputs": [
        {
          "name": "stdout",
          "output_type": "stream",
          "text": [
            "Drive already mounted at /content/drive; to attempt to forcibly remount, call drive.mount(\"/content/drive\", force_remount=True).\n"
          ]
        }
      ],
      "source": [
        "# mount data from google drive to colab\n",
        "from google.colab import drive\n",
        "drive.mount('/content/drive')\n",
        "\n",
        "#import library\n",
        "import pandas as pd # pandas \n",
        "import numpy as np # numpy\n",
        "import seaborn as sns\n",
        "import time\n"
      ]
    },
    {
      "cell_type": "markdown",
      "metadata": {
        "id": "DWey3cHTb43g"
      },
      "source": [
        "# Prepare and Analyze Data\n",
        "\n",
        "1. Load Dataset\n",
        "2. Analyze Dataset\n",
        "3. Preprocess data (type, null, missing, ...)\n",
        "4. Feature Engineering"
      ]
    },
    {
      "cell_type": "markdown",
      "metadata": {
        "id": "5QJmB36JjdyC"
      },
      "source": [
        "## Load Dataset"
      ]
    },
    {
      "cell_type": "code",
      "execution_count": 4,
      "metadata": {
        "id": "b6967e88"
      },
      "outputs": [],
      "source": [
        "# read data using Pandas DataFrame\n",
        "def read_dataset(path):\n",
        "    # Todo: read_csv from a path and return a DataFrame\n",
        "    df = pd.read_csv(path)\n",
        "    display(df.head())\n",
        "    display(df.describe())\n",
        "    return df"
      ]
    },
    {
      "cell_type": "code",
      "execution_count": 26,
      "metadata": {
        "colab": {
          "base_uri": "https://localhost:8080/",
          "height": 919
        },
        "id": "bRSvpuUCfpDr",
        "outputId": "dd413697-9767-4911-9841-1d6636273a1b"
      },
      "outputs": [
        {
          "data": {
            "text/html": [
              "\n",
              "  <div id=\"df-b9ab43e0-d967-466b-9da3-2556e52ccf9c\">\n",
              "    <div class=\"colab-df-container\">\n",
              "      <div>\n",
              "<style scoped>\n",
              "    .dataframe tbody tr th:only-of-type {\n",
              "        vertical-align: middle;\n",
              "    }\n",
              "\n",
              "    .dataframe tbody tr th {\n",
              "        vertical-align: top;\n",
              "    }\n",
              "\n",
              "    .dataframe thead th {\n",
              "        text-align: right;\n",
              "    }\n",
              "</style>\n",
              "<table border=\"1\" class=\"dataframe\">\n",
              "  <thead>\n",
              "    <tr style=\"text-align: right;\">\n",
              "      <th></th>\n",
              "      <th>Gender</th>\n",
              "      <th>Age</th>\n",
              "      <th>Income (USD)</th>\n",
              "      <th>Income Stability</th>\n",
              "      <th>Property Age</th>\n",
              "      <th>Property Location</th>\n",
              "      <th>Property Price</th>\n",
              "      <th>Loan Sanction Amount (USD)</th>\n",
              "    </tr>\n",
              "  </thead>\n",
              "  <tbody>\n",
              "    <tr>\n",
              "      <th>0</th>\n",
              "      <td>F</td>\n",
              "      <td>19</td>\n",
              "      <td>1641.25</td>\n",
              "      <td>Low</td>\n",
              "      <td>1651.25</td>\n",
              "      <td>Rural</td>\n",
              "      <td>59641.82</td>\n",
              "      <td>21026.420753</td>\n",
              "    </tr>\n",
              "    <tr>\n",
              "      <th>1</th>\n",
              "      <td>M</td>\n",
              "      <td>29</td>\n",
              "      <td>1989.71</td>\n",
              "      <td>Low</td>\n",
              "      <td>1990.71</td>\n",
              "      <td>Urban</td>\n",
              "      <td>179858.51</td>\n",
              "      <td>60595.183366</td>\n",
              "    </tr>\n",
              "    <tr>\n",
              "      <th>2</th>\n",
              "      <td>F</td>\n",
              "      <td>37</td>\n",
              "      <td>1849.91</td>\n",
              "      <td>Low</td>\n",
              "      <td>1856.91</td>\n",
              "      <td>Rural</td>\n",
              "      <td>117297.62</td>\n",
              "      <td>39181.648002</td>\n",
              "    </tr>\n",
              "    <tr>\n",
              "      <th>3</th>\n",
              "      <td>M</td>\n",
              "      <td>65</td>\n",
              "      <td>2735.18</td>\n",
              "      <td>High</td>\n",
              "      <td>2747.18</td>\n",
              "      <td>Rural</td>\n",
              "      <td>354417.72</td>\n",
              "      <td>128497.710865</td>\n",
              "    </tr>\n",
              "    <tr>\n",
              "      <th>4</th>\n",
              "      <td>F</td>\n",
              "      <td>62</td>\n",
              "      <td>4741.78</td>\n",
              "      <td>High</td>\n",
              "      <td>4740.78</td>\n",
              "      <td>Urban</td>\n",
              "      <td>82049.80</td>\n",
              "      <td>39386.919336</td>\n",
              "    </tr>\n",
              "  </tbody>\n",
              "</table>\n",
              "</div>\n",
              "      <button class=\"colab-df-convert\" onclick=\"convertToInteractive('df-b9ab43e0-d967-466b-9da3-2556e52ccf9c')\"\n",
              "              title=\"Convert this dataframe to an interactive table.\"\n",
              "              style=\"display:none;\">\n",
              "        \n",
              "  <svg xmlns=\"http://www.w3.org/2000/svg\" height=\"24px\"viewBox=\"0 0 24 24\"\n",
              "       width=\"24px\">\n",
              "    <path d=\"M0 0h24v24H0V0z\" fill=\"none\"/>\n",
              "    <path d=\"M18.56 5.44l.94 2.06.94-2.06 2.06-.94-2.06-.94-.94-2.06-.94 2.06-2.06.94zm-11 1L8.5 8.5l.94-2.06 2.06-.94-2.06-.94L8.5 2.5l-.94 2.06-2.06.94zm10 10l.94 2.06.94-2.06 2.06-.94-2.06-.94-.94-2.06-.94 2.06-2.06.94z\"/><path d=\"M17.41 7.96l-1.37-1.37c-.4-.4-.92-.59-1.43-.59-.52 0-1.04.2-1.43.59L10.3 9.45l-7.72 7.72c-.78.78-.78 2.05 0 2.83L4 21.41c.39.39.9.59 1.41.59.51 0 1.02-.2 1.41-.59l7.78-7.78 2.81-2.81c.8-.78.8-2.07 0-2.86zM5.41 20L4 18.59l7.72-7.72 1.47 1.35L5.41 20z\"/>\n",
              "  </svg>\n",
              "      </button>\n",
              "      \n",
              "  <style>\n",
              "    .colab-df-container {\n",
              "      display:flex;\n",
              "      flex-wrap:wrap;\n",
              "      gap: 12px;\n",
              "    }\n",
              "\n",
              "    .colab-df-convert {\n",
              "      background-color: #E8F0FE;\n",
              "      border: none;\n",
              "      border-radius: 50%;\n",
              "      cursor: pointer;\n",
              "      display: none;\n",
              "      fill: #1967D2;\n",
              "      height: 32px;\n",
              "      padding: 0 0 0 0;\n",
              "      width: 32px;\n",
              "    }\n",
              "\n",
              "    .colab-df-convert:hover {\n",
              "      background-color: #E2EBFA;\n",
              "      box-shadow: 0px 1px 2px rgba(60, 64, 67, 0.3), 0px 1px 3px 1px rgba(60, 64, 67, 0.15);\n",
              "      fill: #174EA6;\n",
              "    }\n",
              "\n",
              "    [theme=dark] .colab-df-convert {\n",
              "      background-color: #3B4455;\n",
              "      fill: #D2E3FC;\n",
              "    }\n",
              "\n",
              "    [theme=dark] .colab-df-convert:hover {\n",
              "      background-color: #434B5C;\n",
              "      box-shadow: 0px 1px 3px 1px rgba(0, 0, 0, 0.15);\n",
              "      filter: drop-shadow(0px 1px 2px rgba(0, 0, 0, 0.3));\n",
              "      fill: #FFFFFF;\n",
              "    }\n",
              "  </style>\n",
              "\n",
              "      <script>\n",
              "        const buttonEl =\n",
              "          document.querySelector('#df-b9ab43e0-d967-466b-9da3-2556e52ccf9c button.colab-df-convert');\n",
              "        buttonEl.style.display =\n",
              "          google.colab.kernel.accessAllowed ? 'block' : 'none';\n",
              "\n",
              "        async function convertToInteractive(key) {\n",
              "          const element = document.querySelector('#df-b9ab43e0-d967-466b-9da3-2556e52ccf9c');\n",
              "          const dataTable =\n",
              "            await google.colab.kernel.invokeFunction('convertToInteractive',\n",
              "                                                     [key], {});\n",
              "          if (!dataTable) return;\n",
              "\n",
              "          const docLinkHtml = 'Like what you see? Visit the ' +\n",
              "            '<a target=\"_blank\" href=https://colab.research.google.com/notebooks/data_table.ipynb>data table notebook</a>'\n",
              "            + ' to learn more about interactive tables.';\n",
              "          element.innerHTML = '';\n",
              "          dataTable['output_type'] = 'display_data';\n",
              "          await google.colab.output.renderOutput(dataTable, element);\n",
              "          const docLink = document.createElement('div');\n",
              "          docLink.innerHTML = docLinkHtml;\n",
              "          element.appendChild(docLink);\n",
              "        }\n",
              "      </script>\n",
              "    </div>\n",
              "  </div>\n",
              "  "
            ],
            "text/plain": [
              "  Gender  Age  Income (USD) Income Stability  Property Age Property Location  \\\n",
              "0      F   19       1641.25              Low       1651.25             Rural   \n",
              "1      M   29       1989.71              Low       1990.71             Urban   \n",
              "2      F   37       1849.91              Low       1856.91             Rural   \n",
              "3      M   65       2735.18             High       2747.18             Rural   \n",
              "4      F   62       4741.78             High       4740.78             Urban   \n",
              "\n",
              "   Property Price  Loan Sanction Amount (USD)  \n",
              "0        59641.82                21026.420753  \n",
              "1       179858.51                60595.183366  \n",
              "2       117297.62                39181.648002  \n",
              "3       354417.72               128497.710865  \n",
              "4        82049.80                39386.919336  "
            ]
          },
          "metadata": {},
          "output_type": "display_data"
        },
        {
          "data": {
            "text/html": [
              "\n",
              "  <div id=\"df-e2a0305f-9580-4f77-bde8-4e5dc7028684\">\n",
              "    <div class=\"colab-df-container\">\n",
              "      <div>\n",
              "<style scoped>\n",
              "    .dataframe tbody tr th:only-of-type {\n",
              "        vertical-align: middle;\n",
              "    }\n",
              "\n",
              "    .dataframe tbody tr th {\n",
              "        vertical-align: top;\n",
              "    }\n",
              "\n",
              "    .dataframe thead th {\n",
              "        text-align: right;\n",
              "    }\n",
              "</style>\n",
              "<table border=\"1\" class=\"dataframe\">\n",
              "  <thead>\n",
              "    <tr style=\"text-align: right;\">\n",
              "      <th></th>\n",
              "      <th>Age</th>\n",
              "      <th>Income (USD)</th>\n",
              "      <th>Property Age</th>\n",
              "      <th>Property Price</th>\n",
              "      <th>Loan Sanction Amount (USD)</th>\n",
              "    </tr>\n",
              "  </thead>\n",
              "  <tbody>\n",
              "    <tr>\n",
              "      <th>count</th>\n",
              "      <td>47297.000000</td>\n",
              "      <td>47265.000000</td>\n",
              "      <td>47263.000000</td>\n",
              "      <td>4.729700e+04</td>\n",
              "      <td>47297.000000</td>\n",
              "    </tr>\n",
              "    <tr>\n",
              "      <th>mean</th>\n",
              "      <td>40.000063</td>\n",
              "      <td>2586.684384</td>\n",
              "      <td>2586.611058</td>\n",
              "      <td>1.350880e+05</td>\n",
              "      <td>46487.229765</td>\n",
              "    </tr>\n",
              "    <tr>\n",
              "      <th>std</th>\n",
              "      <td>16.086128</td>\n",
              "      <td>1558.768809</td>\n",
              "      <td>1558.842286</td>\n",
              "      <td>9.457875e+04</td>\n",
              "      <td>32549.905634</td>\n",
              "    </tr>\n",
              "    <tr>\n",
              "      <th>min</th>\n",
              "      <td>18.000000</td>\n",
              "      <td>372.700000</td>\n",
              "      <td>370.700000</td>\n",
              "      <td>7.859620e+03</td>\n",
              "      <td>254.586578</td>\n",
              "    </tr>\n",
              "    <tr>\n",
              "      <th>25%</th>\n",
              "      <td>24.000000</td>\n",
              "      <td>1653.740000</td>\n",
              "      <td>1652.820000</td>\n",
              "      <td>6.250408e+04</td>\n",
              "      <td>21782.822159</td>\n",
              "    </tr>\n",
              "    <tr>\n",
              "      <th>50%</th>\n",
              "      <td>40.000000</td>\n",
              "      <td>2245.480000</td>\n",
              "      <td>2244.810000</td>\n",
              "      <td>1.130936e+05</td>\n",
              "      <td>38822.132402</td>\n",
              "    </tr>\n",
              "    <tr>\n",
              "      <th>75%</th>\n",
              "      <td>55.000000</td>\n",
              "      <td>3128.560000</td>\n",
              "      <td>3128.380000</td>\n",
              "      <td>1.819546e+05</td>\n",
              "      <td>62612.236905</td>\n",
              "    </tr>\n",
              "    <tr>\n",
              "      <th>max</th>\n",
              "      <td>65.000000</td>\n",
              "      <td>54662.750000</td>\n",
              "      <td>54647.750000</td>\n",
              "      <td>1.077967e+06</td>\n",
              "      <td>366131.165218</td>\n",
              "    </tr>\n",
              "  </tbody>\n",
              "</table>\n",
              "</div>\n",
              "      <button class=\"colab-df-convert\" onclick=\"convertToInteractive('df-e2a0305f-9580-4f77-bde8-4e5dc7028684')\"\n",
              "              title=\"Convert this dataframe to an interactive table.\"\n",
              "              style=\"display:none;\">\n",
              "        \n",
              "  <svg xmlns=\"http://www.w3.org/2000/svg\" height=\"24px\"viewBox=\"0 0 24 24\"\n",
              "       width=\"24px\">\n",
              "    <path d=\"M0 0h24v24H0V0z\" fill=\"none\"/>\n",
              "    <path d=\"M18.56 5.44l.94 2.06.94-2.06 2.06-.94-2.06-.94-.94-2.06-.94 2.06-2.06.94zm-11 1L8.5 8.5l.94-2.06 2.06-.94-2.06-.94L8.5 2.5l-.94 2.06-2.06.94zm10 10l.94 2.06.94-2.06 2.06-.94-2.06-.94-.94-2.06-.94 2.06-2.06.94z\"/><path d=\"M17.41 7.96l-1.37-1.37c-.4-.4-.92-.59-1.43-.59-.52 0-1.04.2-1.43.59L10.3 9.45l-7.72 7.72c-.78.78-.78 2.05 0 2.83L4 21.41c.39.39.9.59 1.41.59.51 0 1.02-.2 1.41-.59l7.78-7.78 2.81-2.81c.8-.78.8-2.07 0-2.86zM5.41 20L4 18.59l7.72-7.72 1.47 1.35L5.41 20z\"/>\n",
              "  </svg>\n",
              "      </button>\n",
              "      \n",
              "  <style>\n",
              "    .colab-df-container {\n",
              "      display:flex;\n",
              "      flex-wrap:wrap;\n",
              "      gap: 12px;\n",
              "    }\n",
              "\n",
              "    .colab-df-convert {\n",
              "      background-color: #E8F0FE;\n",
              "      border: none;\n",
              "      border-radius: 50%;\n",
              "      cursor: pointer;\n",
              "      display: none;\n",
              "      fill: #1967D2;\n",
              "      height: 32px;\n",
              "      padding: 0 0 0 0;\n",
              "      width: 32px;\n",
              "    }\n",
              "\n",
              "    .colab-df-convert:hover {\n",
              "      background-color: #E2EBFA;\n",
              "      box-shadow: 0px 1px 2px rgba(60, 64, 67, 0.3), 0px 1px 3px 1px rgba(60, 64, 67, 0.15);\n",
              "      fill: #174EA6;\n",
              "    }\n",
              "\n",
              "    [theme=dark] .colab-df-convert {\n",
              "      background-color: #3B4455;\n",
              "      fill: #D2E3FC;\n",
              "    }\n",
              "\n",
              "    [theme=dark] .colab-df-convert:hover {\n",
              "      background-color: #434B5C;\n",
              "      box-shadow: 0px 1px 3px 1px rgba(0, 0, 0, 0.15);\n",
              "      filter: drop-shadow(0px 1px 2px rgba(0, 0, 0, 0.3));\n",
              "      fill: #FFFFFF;\n",
              "    }\n",
              "  </style>\n",
              "\n",
              "      <script>\n",
              "        const buttonEl =\n",
              "          document.querySelector('#df-e2a0305f-9580-4f77-bde8-4e5dc7028684 button.colab-df-convert');\n",
              "        buttonEl.style.display =\n",
              "          google.colab.kernel.accessAllowed ? 'block' : 'none';\n",
              "\n",
              "        async function convertToInteractive(key) {\n",
              "          const element = document.querySelector('#df-e2a0305f-9580-4f77-bde8-4e5dc7028684');\n",
              "          const dataTable =\n",
              "            await google.colab.kernel.invokeFunction('convertToInteractive',\n",
              "                                                     [key], {});\n",
              "          if (!dataTable) return;\n",
              "\n",
              "          const docLinkHtml = 'Like what you see? Visit the ' +\n",
              "            '<a target=\"_blank\" href=https://colab.research.google.com/notebooks/data_table.ipynb>data table notebook</a>'\n",
              "            + ' to learn more about interactive tables.';\n",
              "          element.innerHTML = '';\n",
              "          dataTable['output_type'] = 'display_data';\n",
              "          await google.colab.output.renderOutput(dataTable, element);\n",
              "          const docLink = document.createElement('div');\n",
              "          docLink.innerHTML = docLinkHtml;\n",
              "          element.appendChild(docLink);\n",
              "        }\n",
              "      </script>\n",
              "    </div>\n",
              "  </div>\n",
              "  "
            ],
            "text/plain": [
              "                Age  Income (USD)  Property Age  Property Price  \\\n",
              "count  47297.000000  47265.000000  47263.000000    4.729700e+04   \n",
              "mean      40.000063   2586.684384   2586.611058    1.350880e+05   \n",
              "std       16.086128   1558.768809   1558.842286    9.457875e+04   \n",
              "min       18.000000    372.700000    370.700000    7.859620e+03   \n",
              "25%       24.000000   1653.740000   1652.820000    6.250408e+04   \n",
              "50%       40.000000   2245.480000   2244.810000    1.130936e+05   \n",
              "75%       55.000000   3128.560000   3128.380000    1.819546e+05   \n",
              "max       65.000000  54662.750000  54647.750000    1.077967e+06   \n",
              "\n",
              "       Loan Sanction Amount (USD)  \n",
              "count                47297.000000  \n",
              "mean                 46487.229765  \n",
              "std                  32549.905634  \n",
              "min                    254.586578  \n",
              "25%                  21782.822159  \n",
              "50%                  38822.132402  \n",
              "75%                  62612.236905  \n",
              "max                 366131.165218  "
            ]
          },
          "metadata": {},
          "output_type": "display_data"
        },
        {
          "data": {
            "text/plain": [
              "<Axes: >"
            ]
          },
          "execution_count": 26,
          "metadata": {},
          "output_type": "execute_result"
        },
        {
          "data": {
            "image/png": "[encoded data removed]",
            "text/plain": [
              "<Figure size 640x480 with 1 Axes>"
            ]
          },
          "metadata": {},
          "output_type": "display_data"
        }
      ],
      "source": [
        "df = read_dataset('/content/drive/MyDrive/ML_W1/final_house_loan.csv')\n",
        "#ToDo: Show histogram of dataframe\n",
        "df[\"Loan Sanction Amount (USD)\"].hist(bins=100)"
      ]
    },
    {
      "cell_type": "markdown",
      "metadata": {
        "id": "kLqfm42rjgO2"
      },
      "source": [
        "## Data Analysis"
      ]
    },
    {
      "cell_type": "code",
      "execution_count": 27,
      "metadata": {
        "colab": {
          "base_uri": "https://localhost:8080/"
        },
        "id": "OZFahON289oe",
        "outputId": "97e29051-c5a9-4f5d-f565-ea56ff49e2b9"
      },
      "outputs": [
        {
          "data": {
            "text/plain": [
              "Gender                         0\n",
              "Age                            0\n",
              "Income (USD)                  32\n",
              "Income Stability              12\n",
              "Property Age                  34\n",
              "Property Location              3\n",
              "Property Price                 0\n",
              "Loan Sanction Amount (USD)     0\n",
              "dtype: int64"
            ]
          },
          "execution_count": 27,
          "metadata": {},
          "output_type": "execute_result"
        }
      ],
      "source": [
        "# Data analysis\n",
        "# Todo: analyze your data here\n",
        "# Null checking\n",
        "df.isnull().sum()"
      ]
    },
    {
      "cell_type": "markdown",
      "metadata": {
        "id": "FWQ3y3T2f32N"
      },
      "source": [
        "## Preprocessing"
      ]
    },
    {
      "cell_type": "code",
      "execution_count": 8,
      "metadata": {
        "id": "6f647dba"
      },
      "outputs": [],
      "source": [
        "def preprocessing_data(df):\n",
        "    # --- (Optional) Drop null datapoints or fill missing data\n",
        "    # Keep your data the same if you dont want to customize it\n",
        "    df.dropna(inplace=True)\n",
        "    return df"
      ]
    },
    {
      "cell_type": "code",
      "execution_count": 9,
      "metadata": {
        "id": "9KKiP3yd3m8t"
      },
      "outputs": [],
      "source": [
        "df = preprocessing_data(df.copy())"
      ]
    },
    {
      "cell_type": "markdown",
      "metadata": {
        "id": "hEu9oydOjZem"
      },
      "source": [
        "## Feature Engineering"
      ]
    },
    {
      "cell_type": "code",
      "execution_count": 10,
      "metadata": {
        "id": "ee4UO0d_2-ED"
      },
      "outputs": [],
      "source": [
        "def normalize_data(df):\n",
        "    # ---- Method 3\n",
        "    start_time = time.time()\n",
        "    # data normalization\n",
        "    normalized_data = df.copy()\n",
        "    normalized_data[\"Gender\"] = normalized_data[\"Gender\"].astype(\"category\").cat.codes\n",
        "    normalized_data[\"Income Stability\"] = normalized_data[\"Income Stability\"].astype(\"category\").cat.codes\n",
        "    normalized_data[\"Property Location\"] = normalized_data[\"Property Location\"].astype(\"category\").cat.codes\n",
        "\n",
        "    display(normalized_data.head())\n",
        "    display(normalized_data.corr())\n",
        "    print(\"Running time\", time.time() - start_time)\n",
        "    return normalized_data"
      ]
    },
    {
      "cell_type": "code",
      "execution_count": 11,
      "metadata": {
        "colab": {
          "base_uri": "https://localhost:8080/",
          "height": 1000
        },
        "id": "AmepvqLbknvO",
        "outputId": "765e175a-5083-4a4e-e6f1-e5ab8d71a4c3"
      },
      "outputs": [
        {
          "data": {
            "text/html": [
              "\n",
              "  <div id=\"df-9a2ce9a7-bb22-4689-a0b5-59785058e8ff\">\n",
              "    <div class=\"colab-df-container\">\n",
              "      <div>\n",
              "<style scoped>\n",
              "    .dataframe tbody tr th:only-of-type {\n",
              "        vertical-align: middle;\n",
              "    }\n",
              "\n",
              "    .dataframe tbody tr th {\n",
              "        vertical-align: top;\n",
              "    }\n",
              "\n",
              "    .dataframe thead th {\n",
              "        text-align: right;\n",
              "    }\n",
              "</style>\n",
              "<table border=\"1\" class=\"dataframe\">\n",
              "  <thead>\n",
              "    <tr style=\"text-align: right;\">\n",
              "      <th></th>\n",
              "      <th>Gender</th>\n",
              "      <th>Age</th>\n",
              "      <th>Income (USD)</th>\n",
              "      <th>Income Stability</th>\n",
              "      <th>Property Age</th>\n",
              "      <th>Property Location</th>\n",
              "      <th>Property Price</th>\n",
              "      <th>Loan Sanction Amount (USD)</th>\n",
              "    </tr>\n",
              "  </thead>\n",
              "  <tbody>\n",
              "    <tr>\n",
              "      <th>0</th>\n",
              "      <td>0</td>\n",
              "      <td>19</td>\n",
              "      <td>1641.25</td>\n",
              "      <td>1</td>\n",
              "      <td>1651.25</td>\n",
              "      <td>0</td>\n",
              "      <td>59641.82</td>\n",
              "      <td>21026.420753</td>\n",
              "    </tr>\n",
              "    <tr>\n",
              "      <th>1</th>\n",
              "      <td>1</td>\n",
              "      <td>29</td>\n",
              "      <td>1989.71</td>\n",
              "      <td>1</td>\n",
              "      <td>1990.71</td>\n",
              "      <td>2</td>\n",
              "      <td>179858.51</td>\n",
              "      <td>60595.183366</td>\n",
              "    </tr>\n",
              "    <tr>\n",
              "      <th>2</th>\n",
              "      <td>0</td>\n",
              "      <td>37</td>\n",
              "      <td>1849.91</td>\n",
              "      <td>1</td>\n",
              "      <td>1856.91</td>\n",
              "      <td>0</td>\n",
              "      <td>117297.62</td>\n",
              "      <td>39181.648002</td>\n",
              "    </tr>\n",
              "    <tr>\n",
              "      <th>3</th>\n",
              "      <td>1</td>\n",
              "      <td>65</td>\n",
              "      <td>2735.18</td>\n",
              "      <td>0</td>\n",
              "      <td>2747.18</td>\n",
              "      <td>0</td>\n",
              "      <td>354417.72</td>\n",
              "      <td>128497.710865</td>\n",
              "    </tr>\n",
              "    <tr>\n",
              "      <th>4</th>\n",
              "      <td>0</td>\n",
              "      <td>62</td>\n",
              "      <td>4741.78</td>\n",
              "      <td>0</td>\n",
              "      <td>4740.78</td>\n",
              "      <td>2</td>\n",
              "      <td>82049.80</td>\n",
              "      <td>39386.919336</td>\n",
              "    </tr>\n",
              "  </tbody>\n",
              "</table>\n",
              "</div>\n",
              "      <button class=\"colab-df-convert\" onclick=\"convertToInteractive('df-9a2ce9a7-bb22-4689-a0b5-59785058e8ff')\"\n",
              "              title=\"Convert this dataframe to an interactive table.\"\n",
              "              style=\"display:none;\">\n",
              "        \n",
              "  <svg xmlns=\"http://www.w3.org/2000/svg\" height=\"24px\"viewBox=\"0 0 24 24\"\n",
              "       width=\"24px\">\n",
              "    <path d=\"M0 0h24v24H0V0z\" fill=\"none\"/>\n",
              "    <path d=\"M18.56 5.44l.94 2.06.94-2.06 2.06-.94-2.06-.94-.94-2.06-.94 2.06-2.06.94zm-11 1L8.5 8.5l.94-2.06 2.06-.94-2.06-.94L8.5 2.5l-.94 2.06-2.06.94zm10 10l.94 2.06.94-2.06 2.06-.94-2.06-.94-.94-2.06-.94 2.06-2.06.94z\"/><path d=\"M17.41 7.96l-1.37-1.37c-.4-.4-.92-.59-1.43-.59-.52 0-1.04.2-1.43.59L10.3 9.45l-7.72 7.72c-.78.78-.78 2.05 0 2.83L4 21.41c.39.39.9.59 1.41.59.51 0 1.02-.2 1.41-.59l7.78-7.78 2.81-2.81c.8-.78.8-2.07 0-2.86zM5.41 20L4 18.59l7.72-7.72 1.47 1.35L5.41 20z\"/>\n",
              "  </svg>\n",
              "      </button>\n",
              "      \n",
              "  <style>\n",
              "    .colab-df-container {\n",
              "      display:flex;\n",
              "      flex-wrap:wrap;\n",
              "      gap: 12px;\n",
              "    }\n",
              "\n",
              "    .colab-df-convert {\n",
              "      background-color: #E8F0FE;\n",
              "      border: none;\n",
              "      border-radius: 50%;\n",
              "      cursor: pointer;\n",
              "      display: none;\n",
              "      fill: #1967D2;\n",
              "      height: 32px;\n",
              "      padding: 0 0 0 0;\n",
              "      width: 32px;\n",
              "    }\n",
              "\n",
              "    .colab-df-convert:hover {\n",
              "      background-color: #E2EBFA;\n",
              "      box-shadow: 0px 1px 2px rgba(60, 64, 67, 0.3), 0px 1px 3px 1px rgba(60, 64, 67, 0.15);\n",
              "      fill: #174EA6;\n",
              "    }\n",
              "\n",
              "    [theme=dark] .colab-df-convert {\n",
              "      background-color: #3B4455;\n",
              "      fill: #D2E3FC;\n",
              "    }\n",
              "\n",
              "    [theme=dark] .colab-df-convert:hover {\n",
              "      background-color: #434B5C;\n",
              "      box-shadow: 0px 1px 3px 1px rgba(0, 0, 0, 0.15);\n",
              "      filter: drop-shadow(0px 1px 2px rgba(0, 0, 0, 0.3));\n",
              "      fill: #FFFFFF;\n",
              "    }\n",
              "  </style>\n",
              "\n",
              "      <script>\n",
              "        const buttonEl =\n",
              "          document.querySelector('#df-9a2ce9a7-bb22-4689-a0b5-59785058e8ff button.colab-df-convert');\n",
              "        buttonEl.style.display =\n",
              "          google.colab.kernel.accessAllowed ? 'block' : 'none';\n",
              "\n",
              "        async function convertToInteractive(key) {\n",
              "          const element = document.querySelector('#df-9a2ce9a7-bb22-4689-a0b5-59785058e8ff');\n",
              "          const dataTable =\n",
              "            await google.colab.kernel.invokeFunction('convertToInteractive',\n",
              "                                                     [key], {});\n",
              "          if (!dataTable) return;\n",
              "\n",
              "          const docLinkHtml = 'Like what you see? Visit the ' +\n",
              "            '<a target=\"_blank\" href=https://colab.research.google.com/notebooks/data_table.ipynb>data table notebook</a>'\n",
              "            + ' to learn more about interactive tables.';\n",
              "          element.innerHTML = '';\n",
              "          dataTable['output_type'] = 'display_data';\n",
              "          await google.colab.output.renderOutput(dataTable, element);\n",
              "          const docLink = document.createElement('div');\n",
              "          docLink.innerHTML = docLinkHtml;\n",
              "          element.appendChild(docLink);\n",
              "        }\n",
              "      </script>\n",
              "    </div>\n",
              "  </div>\n",
              "  "
            ],
            "text/plain": [
              "   Gender  Age  Income (USD)  Income Stability  Property Age  \\\n",
              "0       0   19       1641.25                 1       1651.25   \n",
              "1       1   29       1989.71                 1       1990.71   \n",
              "2       0   37       1849.91                 1       1856.91   \n",
              "3       1   65       2735.18                 0       2747.18   \n",
              "4       0   62       4741.78                 0       4740.78   \n",
              "\n",
              "   Property Location  Property Price  Loan Sanction Amount (USD)  \n",
              "0                  0        59641.82                21026.420753  \n",
              "1                  2       179858.51                60595.183366  \n",
              "2                  0       117297.62                39181.648002  \n",
              "3                  0       354417.72               128497.710865  \n",
              "4                  2        82049.80                39386.919336  "
            ]
          },
          "metadata": {},
          "output_type": "display_data"
        },
        {
          "data": {
            "text/html": [
              "\n",
              "  <div id=\"df-1152ba73-1baf-4960-9a42-b3b3fe3b0912\">\n",
              "    <div class=\"colab-df-container\">\n",
              "      <div>\n",
              "<style scoped>\n",
              "    .dataframe tbody tr th:only-of-type {\n",
              "        vertical-align: middle;\n",
              "    }\n",
              "\n",
              "    .dataframe tbody tr th {\n",
              "        vertical-align: top;\n",
              "    }\n",
              "\n",
              "    .dataframe thead th {\n",
              "        text-align: right;\n",
              "    }\n",
              "</style>\n",
              "<table border=\"1\" class=\"dataframe\">\n",
              "  <thead>\n",
              "    <tr style=\"text-align: right;\">\n",
              "      <th></th>\n",
              "      <th>Gender</th>\n",
              "      <th>Age</th>\n",
              "      <th>Income (USD)</th>\n",
              "      <th>Income Stability</th>\n",
              "      <th>Property Age</th>\n",
              "      <th>Property Location</th>\n",
              "      <th>Property Price</th>\n",
              "      <th>Loan Sanction Amount (USD)</th>\n",
              "    </tr>\n",
              "  </thead>\n",
              "  <tbody>\n",
              "    <tr>\n",
              "      <th>Gender</th>\n",
              "      <td>1.000000</td>\n",
              "      <td>0.007706</td>\n",
              "      <td>-0.002445</td>\n",
              "      <td>-0.019000</td>\n",
              "      <td>-0.002512</td>\n",
              "      <td>0.009142</td>\n",
              "      <td>0.005931</td>\n",
              "      <td>0.003396</td>\n",
              "    </tr>\n",
              "    <tr>\n",
              "      <th>Age</th>\n",
              "      <td>0.007706</td>\n",
              "      <td>1.000000</td>\n",
              "      <td>-0.044086</td>\n",
              "      <td>-0.455855</td>\n",
              "      <td>-0.044085</td>\n",
              "      <td>-0.007770</td>\n",
              "      <td>-0.003274</td>\n",
              "      <td>-0.000115</td>\n",
              "    </tr>\n",
              "    <tr>\n",
              "      <th>Income (USD)</th>\n",
              "      <td>-0.002445</td>\n",
              "      <td>-0.044086</td>\n",
              "      <td>1.000000</td>\n",
              "      <td>0.080961</td>\n",
              "      <td>0.999986</td>\n",
              "      <td>-0.000199</td>\n",
              "      <td>0.358110</td>\n",
              "      <td>0.392897</td>\n",
              "    </tr>\n",
              "    <tr>\n",
              "      <th>Income Stability</th>\n",
              "      <td>-0.019000</td>\n",
              "      <td>-0.455855</td>\n",
              "      <td>0.080961</td>\n",
              "      <td>1.000000</td>\n",
              "      <td>0.081008</td>\n",
              "      <td>-0.001959</td>\n",
              "      <td>0.004813</td>\n",
              "      <td>-0.070969</td>\n",
              "    </tr>\n",
              "    <tr>\n",
              "      <th>Property Age</th>\n",
              "      <td>-0.002512</td>\n",
              "      <td>-0.044085</td>\n",
              "      <td>0.999986</td>\n",
              "      <td>0.081008</td>\n",
              "      <td>1.000000</td>\n",
              "      <td>-0.000233</td>\n",
              "      <td>0.358110</td>\n",
              "      <td>0.392892</td>\n",
              "    </tr>\n",
              "    <tr>\n",
              "      <th>Property Location</th>\n",
              "      <td>0.009142</td>\n",
              "      <td>-0.007770</td>\n",
              "      <td>-0.000199</td>\n",
              "      <td>-0.001959</td>\n",
              "      <td>-0.000233</td>\n",
              "      <td>1.000000</td>\n",
              "      <td>-0.000898</td>\n",
              "      <td>-0.001988</td>\n",
              "    </tr>\n",
              "    <tr>\n",
              "      <th>Property Price</th>\n",
              "      <td>0.005931</td>\n",
              "      <td>-0.003274</td>\n",
              "      <td>0.358110</td>\n",
              "      <td>0.004813</td>\n",
              "      <td>0.358110</td>\n",
              "      <td>-0.000898</td>\n",
              "      <td>1.000000</td>\n",
              "      <td>0.994429</td>\n",
              "    </tr>\n",
              "    <tr>\n",
              "      <th>Loan Sanction Amount (USD)</th>\n",
              "      <td>0.003396</td>\n",
              "      <td>-0.000115</td>\n",
              "      <td>0.392897</td>\n",
              "      <td>-0.070969</td>\n",
              "      <td>0.392892</td>\n",
              "      <td>-0.001988</td>\n",
              "      <td>0.994429</td>\n",
              "      <td>1.000000</td>\n",
              "    </tr>\n",
              "  </tbody>\n",
              "</table>\n",
              "</div>\n",
              "      <button class=\"colab-df-convert\" onclick=\"convertToInteractive('df-1152ba73-1baf-4960-9a42-b3b3fe3b0912')\"\n",
              "              title=\"Convert this dataframe to an interactive table.\"\n",
              "              style=\"display:none;\">\n",
              "        \n",
              "  <svg xmlns=\"http://www.w3.org/2000/svg\" height=\"24px\"viewBox=\"0 0 24 24\"\n",
              "       width=\"24px\">\n",
              "    <path d=\"M0 0h24v24H0V0z\" fill=\"none\"/>\n",
              "    <path d=\"M18.56 5.44l.94 2.06.94-2.06 2.06-.94-2.06-.94-.94-2.06-.94 2.06-2.06.94zm-11 1L8.5 8.5l.94-2.06 2.06-.94-2.06-.94L8.5 2.5l-.94 2.06-2.06.94zm10 10l.94 2.06.94-2.06 2.06-.94-2.06-.94-.94-2.06-.94 2.06-2.06.94z\"/><path d=\"M17.41 7.96l-1.37-1.37c-.4-.4-.92-.59-1.43-.59-.52 0-1.04.2-1.43.59L10.3 9.45l-7.72 7.72c-.78.78-.78 2.05 0 2.83L4 21.41c.39.39.9.59 1.41.59.51 0 1.02-.2 1.41-.59l7.78-7.78 2.81-2.81c.8-.78.8-2.07 0-2.86zM5.41 20L4 18.59l7.72-7.72 1.47 1.35L5.41 20z\"/>\n",
              "  </svg>\n",
              "      </button>\n",
              "      \n",
              "  <style>\n",
              "    .colab-df-container {\n",
              "      display:flex;\n",
              "      flex-wrap:wrap;\n",
              "      gap: 12px;\n",
              "    }\n",
              "\n",
              "    .colab-df-convert {\n",
              "      background-color: #E8F0FE;\n",
              "      border: none;\n",
              "      border-radius: 50%;\n",
              "      cursor: pointer;\n",
              "      display: none;\n",
              "      fill: #1967D2;\n",
              "      height: 32px;\n",
              "      padding: 0 0 0 0;\n",
              "      width: 32px;\n",
              "    }\n",
              "\n",
              "    .colab-df-convert:hover {\n",
              "      background-color: #E2EBFA;\n",
              "      box-shadow: 0px 1px 2px rgba(60, 64, 67, 0.3), 0px 1px 3px 1px rgba(60, 64, 67, 0.15);\n",
              "      fill: #174EA6;\n",
              "    }\n",
              "\n",
              "    [theme=dark] .colab-df-convert {\n",
              "      background-color: #3B4455;\n",
              "      fill: #D2E3FC;\n",
              "    }\n",
              "\n",
              "    [theme=dark] .colab-df-convert:hover {\n",
              "      background-color: #434B5C;\n",
              "      box-shadow: 0px 1px 3px 1px rgba(0, 0, 0, 0.15);\n",
              "      filter: drop-shadow(0px 1px 2px rgba(0, 0, 0, 0.3));\n",
              "      fill: #FFFFFF;\n",
              "    }\n",
              "  </style>\n",
              "\n",
              "      <script>\n",
              "        const buttonEl =\n",
              "          document.querySelector('#df-1152ba73-1baf-4960-9a42-b3b3fe3b0912 button.colab-df-convert');\n",
              "        buttonEl.style.display =\n",
              "          google.colab.kernel.accessAllowed ? 'block' : 'none';\n",
              "\n",
              "        async function convertToInteractive(key) {\n",
              "          const element = document.querySelector('#df-1152ba73-1baf-4960-9a42-b3b3fe3b0912');\n",
              "          const dataTable =\n",
              "            await google.colab.kernel.invokeFunction('convertToInteractive',\n",
              "                                                     [key], {});\n",
              "          if (!dataTable) return;\n",
              "\n",
              "          const docLinkHtml = 'Like what you see? Visit the ' +\n",
              "            '<a target=\"_blank\" href=https://colab.research.google.com/notebooks/data_table.ipynb>data table notebook</a>'\n",
              "            + ' to learn more about interactive tables.';\n",
              "          element.innerHTML = '';\n",
              "          dataTable['output_type'] = 'display_data';\n",
              "          await google.colab.output.renderOutput(dataTable, element);\n",
              "          const docLink = document.createElement('div');\n",
              "          docLink.innerHTML = docLinkHtml;\n",
              "          element.appendChild(docLink);\n",
              "        }\n",
              "      </script>\n",
              "    </div>\n",
              "  </div>\n",
              "  "
            ],
            "text/plain": [
              "                              Gender       Age  Income (USD)  \\\n",
              "Gender                      1.000000  0.007706     -0.002445   \n",
              "Age                         0.007706  1.000000     -0.044086   \n",
              "Income (USD)               -0.002445 -0.044086      1.000000   \n",
              "Income Stability           -0.019000 -0.455855      0.080961   \n",
              "Property Age               -0.002512 -0.044085      0.999986   \n",
              "Property Location           0.009142 -0.007770     -0.000199   \n",
              "Property Price              0.005931 -0.003274      0.358110   \n",
              "Loan Sanction Amount (USD)  0.003396 -0.000115      0.392897   \n",
              "\n",
              "                            Income Stability  Property Age  Property Location  \\\n",
              "Gender                             -0.019000     -0.002512           0.009142   \n",
              "Age                                -0.455855     -0.044085          -0.007770   \n",
              "Income (USD)                        0.080961      0.999986          -0.000199   \n",
              "Income Stability                    1.000000      0.081008          -0.001959   \n",
              "Property Age                        0.081008      1.000000          -0.000233   \n",
              "Property Location                  -0.001959     -0.000233           1.000000   \n",
              "Property Price                      0.004813      0.358110          -0.000898   \n",
              "Loan Sanction Amount (USD)         -0.070969      0.392892          -0.001988   \n",
              "\n",
              "                            Property Price  Loan Sanction Amount (USD)  \n",
              "Gender                            0.005931                    0.003396  \n",
              "Age                              -0.003274                   -0.000115  \n",
              "Income (USD)                      0.358110                    0.392897  \n",
              "Income Stability                  0.004813                   -0.070969  \n",
              "Property Age                      0.358110                    0.392892  \n",
              "Property Location                -0.000898                   -0.001988  \n",
              "Property Price                    1.000000                    0.994429  \n",
              "Loan Sanction Amount (USD)        0.994429                    1.000000  "
            ]
          },
          "metadata": {},
          "output_type": "display_data"
        },
        {
          "name": "stdout",
          "output_type": "stream",
          "text": [
            "Running time 0.05935525894165039\n"
          ]
        },
        {
          "data": {
            "text/plain": [
              "<Axes: >"
            ]
          },
          "execution_count": 11,
          "metadata": {},
          "output_type": "execute_result"
        },
        {
          "data": {
            "image/png": "[encoded data removed]",
            "text/plain": [
              "<Figure size 640x480 with 2 Axes>"
            ]
          },
          "metadata": {},
          "output_type": "display_data"
        }
      ],
      "source": [
        "# Heatmap\n",
        "import seaborn as sns\n",
        "\n",
        "normalized_data = normalize_data(df.copy())\n",
        "sns.heatmap(normalized_data.corr()) # Show heatmap after normalized data"
      ]
    },
    {
      "cell_type": "markdown",
      "metadata": {
        "id": "fzgR-i-gE1hc"
      },
      "source": [
        "# Apply machine learning model"
      ]
    },
    {
      "cell_type": "markdown",
      "metadata": {
        "id": "ppt3beFBjnID"
      },
      "source": [
        "## Train-test split"
      ]
    },
    {
      "cell_type": "code",
      "execution_count": 12,
      "metadata": {
        "id": "dodR58Ha3wgf"
      },
      "outputs": [],
      "source": [
        "from sklearn.model_selection import train_test_split\n",
        "from sklearn.metrics import mean_absolute_error"
      ]
    },
    {
      "cell_type": "code",
      "execution_count": 31,
      "metadata": {
        "id": "mBo9kxbmSZiF"
      },
      "outputs": [],
      "source": [
        "def prepare_X_y(df):\n",
        "    # Split data into X and y. Return two dataframes\n",
        "    columns = df.columns.tolist()\n",
        "    columns.remove('Loan Sanction Amount (USD)')\n",
        "    X = df[columns] # Todo: Select features\n",
        "    y = df['Loan Sanction Amount (USD)'] # Todo: Select label\n",
        "    return X, y\n",
        "\n",
        "X, y = prepare_X_y(normalized_data)"
      ]
    },
    {
      "cell_type": "code",
      "execution_count": 14,
      "metadata": {
        "id": "oanMcOPgScf7"
      },
      "outputs": [],
      "source": [
        "def split_train_test(X, y, train_size=0.7):\n",
        "    trainX, testX ,trainY, testY = train_test_split(X, y, train_size=train_size, random_state=2023)\n",
        "    # Use sklearn train_test_split to split X and y into 2 sets: train set and test set. With train_size is the proportion of train_set and fix the random_state with a number\n",
        "    print('Training:' + str(trainX.shape))\n",
        "    print('Test:' + str(testX.shape))\n",
        "\n",
        "    return trainX, testX ,trainY, testY"
      ]
    },
    {
      "cell_type": "code",
      "execution_count": 15,
      "metadata": {
        "colab": {
          "base_uri": "https://localhost:8080/"
        },
        "id": "NFvHM8hA4vlr",
        "outputId": "db287f94-87dd-4222-dbc2-023359b91aab"
      },
      "outputs": [
        {
          "name": "stdout",
          "output_type": "stream",
          "text": [
            "Training:(33075, 7)\n",
            "Test:(14176, 7)\n"
          ]
        }
      ],
      "source": [
        "TRAIN_SIZE = 0.7\n",
        "\n",
        "trainX, testX ,trainY, testY = split_train_test(X, y, train_size=TRAIN_SIZE)"
      ]
    },
    {
      "cell_type": "markdown",
      "metadata": {
        "id": "1xECUjRuFy2e"
      },
      "source": [
        "## Basic Linear Regression"
      ]
    },
    {
      "cell_type": "code",
      "execution_count": 32,
      "metadata": {
        "colab": {
          "base_uri": "https://localhost:8080/"
        },
        "id": "6aIK-of7E6Wv",
        "outputId": "e02056da-6a36-492a-922b-39fb4ae8c280"
      },
      "outputs": [
        {
          "name": "stdout",
          "output_type": "stream",
          "text": [
            "mean absolute error of linear model on train set  163.14116153145872\n",
            "mean absolute error of linear model on test set  137.10457506737418\n",
            "[-2.34483815e+02 -7.93861753e+01  5.50183711e-01 -1.11431363e+04\n",
            "  4.74551612e-01 -6.02929137e+01  3.36339576e-01]\n",
            "\n",
            "11896.351699425148\n"
          ]
        }
      ],
      "source": [
        "from sklearn.linear_model import LinearRegression\n",
        "\n",
        "\n",
        "def build_linear_model(X, y):\n",
        "    model = LinearRegression(fit_intercept = True)\n",
        "    model.fit(trainX, trainY)\n",
        "    # Todo: use sklearn model and config your parameters\n",
        "    # Todo: fit your model with X, y\n",
        "\n",
        "    return model\n",
        "\n",
        "model = build_linear_model(trainX, trainY)\n",
        "# Compare on training dataset\n",
        "pred = model.predict(trainX) \n",
        "MEA_trainset_LinearRegression = mean_absolute_error(y_pred=pred, y_true=trainY)\n",
        "print(\"mean absolute error of linear model on train set \", MEA_trainset_LinearRegression )\n",
        "pred = model.predict(testX)   \n",
        "MEA_testset_LinearRegression = mean_absolute_error(y_pred=pred, y_true=testY)\n",
        "print(\"mean absolute error of linear model on test set \", MEA_testset_LinearRegression )\n",
        "\n",
        "print(model.coef_) # print coefficient\n",
        "print()\n",
        "print(model.intercept_) # print intercept_\n"
      ]
    },
    {
      "cell_type": "code",
      "execution_count": 33,
      "metadata": {
        "colab": {
          "base_uri": "https://localhost:8080/"
        },
        "id": "snbiK5iHFJb_",
        "outputId": "4b18e98b-1aea-4cb4-e509-400741cafc13"
      },
      "outputs": [
        {
          "name": "stdout",
          "output_type": "stream",
          "text": [
            "mean absolute error of linear model on train set  163.23946481846792\n",
            "mean absolute error of linear model on test set  137.1860114645021\n",
            "[-2.34105077e+02 -7.93721152e+01  8.56027193e-01 -1.11414460e+04\n",
            "  1.68715071e-01 -6.01717538e+01  3.36339629e-01]\n",
            "\n",
            "11893.906187251006\n"
          ]
        },
        {
          "name": "stderr",
          "output_type": "stream",
          "text": [
            "/usr/local/lib/python3.9/dist-packages/sklearn/linear_model/_coordinate_descent.py:631: ConvergenceWarning: Objective did not converge. You might want to increase the number of iterations, check the scale of the features or consider increasing regularisation. Duality gap: 4.260e+10, tolerance: 3.490e+09\n",
            "  model = cd_fast.enet_coordinate_descent(\n"
          ]
        }
      ],
      "source": [
        "from sklearn.linear_model import Lasso\n",
        "\n",
        "\n",
        "def build_lasso_model(X, y):\n",
        "  model = Lasso(alpha=0.1)\n",
        "  model.fit(X, y)\n",
        "    # Todo: use sklearn model and config your parameters\n",
        "    # Todo: fit your model with X, y\n",
        "  return model\n",
        "\n",
        "model = build_lasso_model(trainX, trainY)\n",
        "# Compare on training dataset\n",
        "pred = model.predict(trainX)   \n",
        "MEA_trainset_Lasso = mean_absolute_error(y_pred=pred, y_true=trainY)\n",
        "print(\"mean absolute error of linear model on train set \", MEA_trainset_Lasso )\n",
        "pred = model.predict(testX)   \n",
        "MEA_testset_Lasso = mean_absolute_error(y_pred=pred, y_true=testY)\n",
        "print(\"mean absolute error of linear model on test set \", MEA_testset_Lasso )\n",
        "\n",
        "print(model.coef_) # print coefficient\n",
        "print()\n",
        "print(model.intercept_) # print intercept_\n"
      ]
    },
    {
      "cell_type": "code",
      "execution_count": 34,
      "metadata": {
        "colab": {
          "base_uri": "https://localhost:8080/"
        },
        "id": "_xH5lqi35WAJ",
        "outputId": "1e128823-5d6e-4b18-bb1f-523b857c139f"
      },
      "outputs": [
        {
          "name": "stdout",
          "output_type": "stream",
          "text": [
            "mean absolute error of linear model on train set  163.15382295209034\n",
            "mean absolute error of linear model on test set  137.11613614824267\n",
            "[-2.34476749e+02 -7.93819426e+01  5.50315153e-01 -1.11426048e+04\n",
            "  4.74413756e-01 -6.02918644e+01  3.36339608e-01]\n",
            "\n",
            "11895.705542028249\n"
          ]
        }
      ],
      "source": [
        "from sklearn.linear_model import Ridge\n",
        "\n",
        "\n",
        "def build_ridge_model(X, y):\n",
        "    model = model = Ridge(alpha=0.1)\n",
        "    model.fit(X, y)\n",
        "    # Todo: use sklearn model and config your parameters\n",
        "    # Todo: fit your model with X, y\n",
        "\n",
        "    return model\n",
        "\n",
        "model = build_ridge_model(trainX, trainY)\n",
        "# Compare on training dataset\n",
        "pred = model.predict(trainX)   \n",
        "MEA_trainset_Ridge = mean_absolute_error(y_pred=pred, y_true=trainY)\n",
        "print(\"mean absolute error of linear model on train set \", MEA_trainset_Ridge )\n",
        "pred = model.predict(testX)   \n",
        "MEA_testset_Ridge = mean_absolute_error(y_pred=pred, y_true=testY)\n",
        "print(\"mean absolute error of linear model on test set \", MEA_testset_Ridge )\n",
        "\n",
        "print(model.coef_) # print coefficient\n",
        "print()\n",
        "print(model.intercept_) # print intercept_\n"
      ]
    },
    {
      "cell_type": "code",
      "execution_count": 35,
      "metadata": {
        "colab": {
          "base_uri": "https://localhost:8080/"
        },
        "id": "hOZ7NPAG53rg",
        "outputId": "6cb7f4ca-238d-4084-e2f2-b49b86d99c87"
      },
      "outputs": [
        {
          "name": "stdout",
          "output_type": "stream",
          "text": [
            "mean absolute error of linear model on train set  166.40787816004385\n",
            "mean absolute error of linear model on test set  140.15182954588025\n",
            "[-2.33350370e+02 -7.86907123e+01  8.56797069e-01 -1.10558353e+04\n",
            "  1.66909435e-01 -6.01495798e+01  3.36344779e-01]\n",
            "\n",
            "11790.183690263751\n"
          ]
        },
        {
          "name": "stderr",
          "output_type": "stream",
          "text": [
            "/usr/local/lib/python3.9/dist-packages/sklearn/linear_model/_coordinate_descent.py:631: ConvergenceWarning: Objective did not converge. You might want to increase the number of iterations, check the scale of the features or consider increasing regularisation. Duality gap: 4.400e+10, tolerance: 3.490e+09\n",
            "  model = cd_fast.enet_coordinate_descent(\n"
          ]
        }
      ],
      "source": [
        "from sklearn.linear_model import ElasticNet\n",
        "\n",
        "\n",
        "def build_elastic_model(X, y):\n",
        "    model = model = ElasticNet(alpha=0.001, l1_ratio=0.5)\n",
        "    model.fit(X, y)\n",
        "    # Todo: use sklearn model and config your parameters\n",
        "    # Todo: fit your model with X, y\n",
        "\n",
        "    return model\n",
        "\n",
        "model = build_elastic_model(trainX, trainY)\n",
        "# Compare on training dataset\n",
        "pred = model.predict(trainX)   \n",
        "MEA_trainset_ElasticNet = mean_absolute_error(y_pred=pred, y_true=trainY)\n",
        "print(\"mean absolute error of linear model on train set \", MEA_trainset_ElasticNet )\n",
        "pred = model.predict(testX)   \n",
        "MEA_testset_ElasticNet = mean_absolute_error(y_pred=pred, y_true=testY)\n",
        "print(\"mean absolute error of linear model on test set \", MEA_testset_ElasticNet )\n",
        "\n",
        "print(model.coef_) # print coefficient\n",
        "print()\n",
        "print(model.intercept_) # print intercept_\n"
      ]
    },
    {
      "cell_type": "markdown",
      "metadata": {
        "id": "Vcgy2UG5QaXL"
      },
      "source": [
        "## Comparision\n"
      ]
    },
    {
      "cell_type": "code",
      "execution_count": 38,
      "metadata": {
        "colab": {
          "base_uri": "https://localhost:8080/",
          "height": 407
        },
        "id": "zMMtCFNoL7q8",
        "outputId": "388878df-35fd-4351-a88f-dcbd928785c4"
      },
      "outputs": [
        {
          "data": {
            "image/png": "[encoded data removed]",
            "text/plain": [
              "<Figure size 1000x400 with 2 Axes>"
            ]
          },
          "metadata": {},
          "output_type": "display_data"
        }
      ],
      "source": [
        "import matplotlib.pyplot as plt\n",
        "\n",
        "# Define the models\n",
        "models = ['Linear Regression', 'Lasso', 'Ridge', 'ElasticNet']\n",
        "\n",
        "# Define the MAE for train and test sets for all four models\n",
        "train_mae = [MEA_trainset_LinearRegression, MEA_trainset_Lasso, MEA_trainset_Ridge, MEA_trainset_ElasticNet]\n",
        "test_mae = [MEA_testset_LinearRegression, MEA_testset_Lasso, MEA_testset_Ridge, MEA_testset_ElasticNet]\n",
        "\n",
        "# Define the figure size\n",
        "fig, axes = plt.subplots(nrows=1, ncols=2, figsize=(10, 4))\n",
        "\n",
        "# Plot the MAE of train set\n",
        "axes[0].bar(models, train_mae, color='blue')\n",
        "axes[0].set_title('MAE of Train Set')\n",
        "axes[0].set_xlabel('Models')\n",
        "axes[0].set_ylabel('MAE')\n",
        "\n",
        "# Plot the MAE of test set\n",
        "axes[1].bar(models, test_mae, color='red')\n",
        "axes[1].set_title('MAE of Test Set')\n",
        "axes[1].set_xlabel('Models')\n",
        "axes[1].set_ylabel('MAE')\n",
        "\n",
        "# Add spacing between the subplots\n",
        "plt.tight_layout()\n",
        "\n",
        "# Show the plot\n",
        "plt.show()"
      ]
    },
    {
      "cell_type": "markdown",
      "metadata": {
        "id": "XIwz-6tzQwBC"
      },
      "source": [
        "Looking at the plots, it seems that there is not much difference between the four models."
      ]
    },
    {
      "cell_type": "markdown",
      "metadata": {
        "id": "4SDs25IOFoBw"
      },
      "source": [
        "## Polynomial Transform "
      ]
    },
    {
      "cell_type": "markdown",
      "metadata": {
        "id": "mkeldd8AF_Ju"
      },
      "source": [
        "When the data feature does not conform to a linear function, a linear regression cannot be applied directly to the original data. Then, there are many possibilities that the data feature conforms to the polynomial function. Scikit-Learn supports converting data features to polynomials through ``PolynomialFeatures``.\n",
        "\n",
        "$$\n",
        "y = a_0 + a_1 x + a_2 x^2 + a_3 x^3 + \\cdots\n",
        "$$\n",
        "\n",
        "The formula above uses the transformation of the value $x$ from one dimension to the other, with the aim of being able to use linear regression to find complex relationships between $x$ and $y$."
      ]
    },
    {
      "cell_type": "code",
      "execution_count": 20,
      "metadata": {
        "colab": {
          "base_uri": "https://localhost:8080/"
        },
        "id": "PXhjw_utFxzS",
        "outputId": "5c59c03e-0a43-4de5-91fd-d0e4e1d0bb91"
      },
      "outputs": [
        {
          "name": "stdout",
          "output_type": "stream",
          "text": [
            "mean absolute error of linear model (with poly transform) on train set  159.7115198405628\n",
            "mean absolute error of linear model (with poly transform) on test set  133.85237743200997\n"
          ]
        }
      ],
      "source": [
        "#Linear Regression with Polynomial Transform\n",
        "from sklearn.preprocessing import PolynomialFeatures\n",
        "from sklearn.pipeline import make_pipeline\n",
        "\n",
        "def build_pipeline(X, y):\n",
        "    poly_model = make_pipeline(PolynomialFeatures(2, include_bias=False), LinearRegression()) \n",
        "    # use make_pipeline to apply PolynomialFeatures and a Regression model train your dataset\n",
        "    poly_model.fit(X, y)  \n",
        "\n",
        "    return poly_model\n",
        "\n",
        "poly_model = build_pipeline(trainX, trainY)\n",
        "# Compare on training dataset\n",
        "poly_pred = poly_model.predict(trainX)   \n",
        "print(\"mean absolute error of linear model (with poly transform) on train set \", mean_absolute_error(y_pred=poly_pred, y_true=trainY) )\n",
        "\n",
        "poly_pred = poly_model.predict(testX)\n",
        "print(\"mean absolute error of linear model (with poly transform) on test set \", mean_absolute_error(y_pred=poly_pred, y_true=testY))"
      ]
    },
    {
      "cell_type": "code",
      "execution_count": 39,
      "metadata": {
        "colab": {
          "base_uri": "https://localhost:8080/"
        },
        "id": "U6UbGUFE5eoP",
        "outputId": "083a9933-131e-4bed-a050-78f6da71f58e"
      },
      "outputs": [
        {
          "name": "stdout",
          "output_type": "stream",
          "text": [
            "mean absolute error of linear model (with poly transform) on train set for n= 3 : 250.2007222747432\n",
            "mean absolute error of linear model (with poly transform) on test set for n= 3 : 227.56805118367134\n",
            "mean absolute error of linear model (with poly transform) on train set for n= 4 : 2322.254547188427\n",
            "mean absolute error of linear model (with poly transform) on test set for n= 4 : 2349.691235922709\n",
            "mean absolute error of linear model (with poly transform) on train set for n= 5 : 5647.52386143416\n",
            "mean absolute error of linear model (with poly transform) on test set for n= 5 : 5710.478016609696\n"
          ]
        }
      ],
      "source": [
        "from sklearn.preprocessing import PolynomialFeatures\n",
        "from sklearn.pipeline import make_pipeline\n",
        "\n",
        "def build_pipeline(X, y, n):\n",
        "    poly_model = make_pipeline(PolynomialFeatures(n, include_bias=False), LinearRegression()) \n",
        "    # use make_pipeline to apply PolynomialFeatures and a Regression model train your dataset\n",
        "    poly_model.fit(X, y)  \n",
        "\n",
        "    return poly_model\n",
        "\n",
        "n_values = [3, 4, 5]\n",
        "\n",
        "for n in n_values:\n",
        "    poly_model = build_pipeline(trainX, trainY, n)\n",
        "    # Compare on training dataset\n",
        "    poly_pred = poly_model.predict(trainX)   \n",
        "    print(\"mean absolute error of linear model (with poly transform) on train set for n=\", n, \":\", mean_absolute_error(y_pred=poly_pred, y_true=trainY) )\n",
        "\n",
        "    poly_pred = poly_model.predict(testX)\n",
        "    print(\"mean absolute error of linear model (with poly transform) on test set for n=\", n, \":\", mean_absolute_error(y_pred=poly_pred, y_true=testY))"
      ]
    },
    {
      "cell_type": "markdown",
      "metadata": {
        "id": "zeSrf4aHSf2K"
      },
      "source": [
        "As the value of n increases, the model becomes more complex and captures more detailed information about the training data, which may result in overfitting. This is reflected in the increasing MAE values for the test set as n increases."
      ]
    }
  ],
  "metadata": {
    "colab": {
      "provenance": []
    },
    "kernelspec": {
      "display_name": "Python 3",
      "name": "python3"
    },
    "language_info": {
      "name": "python"
    }
  },
  "nbformat": 4,
  "nbformat_minor": 0
}
